{
 "cells": [
  {
   "cell_type": "code",
   "execution_count": 12,
   "metadata": {},
   "outputs": [
    {
     "name": "stdout",
     "output_type": "stream",
     "text": [
      "{'access_token': '26_Mu7rvnzQtRkDXiTbQ7GN9w-6RdCjKWYjqJjMJpvtVAfJ8tB5Y-wlX-dXHaTRgqxZVRN1EWpNVNtCi5uIyA-4_PUqDlFHs-SQP4k6pfanAALt4wQ2o4VmtOegv9IYDWhABABGZ'}\n"
     ]
    }
   ],
   "source": [
    "import requests\n",
    "\n",
    "ENV = 'fch-yhb24'\n",
    "url = 'https://api.weixin.qq.com/cgi-bin/token'\n",
    "params = {\n",
    "    'grant_type' : 'client_credential',\n",
    "    'appid': '************',\n",
    "    'secret': '************',\n",
    "}\n",
    "SQL_DIR = 'kjs_sql/'\n",
    "\n",
    "r = requests.get(url, params= params)\n",
    "if (r.status_code == 200):\n",
    "    access_token = r.json()\n",
    "    access_token.pop('expires_in')\n",
    "    print(access_token)\n",
    "else:\n",
    "    print('Error Code: ' + str(r.status_code))"
   ]
  },
  {
   "cell_type": "code",
   "execution_count": 54,
   "metadata": {},
   "outputs": [
    {
     "name": "stdout",
     "output_type": "stream",
     "text": [
      "File kjs_sql/048.json was successfully import to collection 048 .\r"
     ]
    }
   ],
   "source": [
    "import json\n",
    "import sys\n",
    "from requests_toolbelt.multipart.encoder import MultipartEncoder\n",
    "\n",
    "\n",
    "def upload_file(access_token, local_fp, remote_fp= None):\n",
    "    url = 'https://api.weixin.qq.com/tcb/uploadfile'\n",
    "    if remote_fp == None:\n",
    "            remote_fp = local_fp\n",
    "    post_data = {\n",
    "        'env': ENV,\n",
    "        'path': remote_fp,\n",
    "    }\n",
    "    r = requests.post(url, params= access_token, json=post_data)\n",
    "    response = r.json()\n",
    "    if response['errcode'] == 0:\n",
    "        url = response['url']\n",
    "        post_data = {\n",
    "            'key': remote_fp,\n",
    "            'Signature': response['authorization'],\n",
    "            'x-cos-security-token': response['token'],\n",
    "            'x-cos-meta-fileid': response['cos_file_id'],\n",
    "        }\n",
    "        with open(local_fp, 'rb') as f:\n",
    "            post_data['file'] = f.read()\n",
    "        m = MultipartEncoder(fields= post_data)\n",
    "        headers = {\n",
    "            'Content-type': m.content_type\n",
    "        }\n",
    "        r = requests.post(url, data= m, headers= headers)\n",
    "        if r.text == '':\n",
    "            sys.stdout.write('Flie ' + local_fp + ' uploaded.\\r')\n",
    "            return\n",
    "    sys.stderr.write('Fail to upload flie ' + local_fp + ' .\\n')\n",
    "    \n",
    "# upload_file(access_token, 'kjs_sql/002.json')\n",
    "\n",
    "def import_database(access_token, collection_name, file_path, file_type=1):\n",
    "    url = 'https://api.weixin.qq.com/tcb/databasemigrateimport'\n",
    "    post_data = {\n",
    "        'env': ENV,\n",
    "        'collection_name': collection_name,\n",
    "        'file_path': file_path,\n",
    "        'file_type': file_type, # 1 for json, 2 for csv\n",
    "        'stop_on_error': True,\n",
    "        'conflict_mode': 2,     # 1 for insert, 2 for upsert\n",
    "    }\n",
    "    r = requests.post(url, json=post_data, params=access_token)\n",
    "    response = r.json()\n",
    "    if response['errcode'] == 0:\n",
    "        sys.stdout.write('File ' + file_path + ' was successfully import to collection ' + collection_name + ' .\\r')\n",
    "    else:\n",
    "        sys.stderr.write('Fail to import file ' + file_path + ' to collection ' + collection_name + ' .\\n')\n",
    "    \n",
    "# file_path = SQL_DIR + '002.json'\n",
    "# collection_name = 'test'\n",
    "# upload_file(access_token, file_path)\n",
    "# collection_clear(access_token, collection_name)\n",
    "# collection_add(access_token, collection_name)\n",
    "# import_database(access_token, 'test', file_path)\n",
    "\n",
    "\n",
    "def main():\n",
    "    building_dict = {}\n",
    "    with open(SQL_DIR + 'upload_list.json', 'r', encoding='utf-8') as f:\n",
    "        building_dict = json.loads(f.read())\n",
    "    for building in building_dict:\n",
    "        building_id, building_name = building['id'], building['name']\n",
    "        file_path = SQL_DIR + building_id + '.json'\n",
    "        upload_file(access_token, file_path)\n",
    "        import_database(access_token, building_id, file_path)\n",
    "    sys.stdout.write('\\n----------------END----------------')\n",
    "main()"
   ]
  },
  {
   "cell_type": "code",
   "execution_count": 12,
   "metadata": {},
   "outputs": [],
   "source": [
    "def collection_add(access_token, collection_name):\n",
    "    url = 'https://api.weixin.qq.com/tcb/databasecollectionadd'\n",
    "    post_data = {\n",
    "        'env': 'fch-yhb24',\n",
    "        'collection_name': collection_name,\n",
    "    }\n",
    "    r = requests.post(url, params = access_token, json = post_data)\n",
    "    if r.json()['errcode'] == 0:\n",
    "        print('collection ' + collection_name + ' added.')\n",
    "    else:\n",
    "        print('fail to addcollection ' + collection_name + ' .')\n",
    "        \n",
    "def collection_del(access_token, collection_name):\n",
    "    url = 'https://api.weixin.qq.com/tcb/databasecollectiondelete'\n",
    "    post_data = {\n",
    "        'env': ENV,\n",
    "        'collection_name': collection_name,\n",
    "    }\n",
    "    r = requests.post(url, json= post_data, params = access_token)\n",
    "    if r.json()['errcode'] == 0:\n",
    "        print('collection ' + collection_name + ' deleted.')\n",
    "    else:\n",
    "        print('fail to delete collection ' + collection_name + ' .')\n",
    "\n",
    "def batch_download(access_token, remote_fp):\n",
    "    url = 'https://api.weixin.qq.com/tcb/batchdownloadfile'\n",
    "    post_data = {\n",
    "        'env': ENV,\n",
    "        'file_list': [\n",
    "            {\n",
    "                'fileid': 'cloud://fch-yhb24.6663-fch-yhb24-1256334811/' + remote_fp,\n",
    "                'max_age': 7200\n",
    "            }\n",
    "        ]\n",
    "    }\n",
    "    post_data = json.dumps(post_data)\n",
    "    r = requests.post(url, params = access_token, data = post_data)\n",
    "    response = json.loads(r.text)\n",
    "    if response['errcode'] != 0 :\n",
    "        print(r.text)\n",
    "    else:\n",
    "        file_list = response['file_list']\n",
    "        for ele in file_list:\n",
    "            print(ele['download_url'])\n",
    "\n",
    "# batch_download(access_token, 'my-image.png')"
   ]
  },
  {
   "cell_type": "code",
   "execution_count": 21,
   "metadata": {},
   "outputs": [
    {
     "name": "stdout",
     "output_type": "stream",
     "text": [
      "fail to clear collection test .\n",
      "{'errcode': -605101, 'errmsg': \"SymanticError: no action found, did you forget to call 'get' (or another action) ?  hint: [j8YKlA08702162]\"}\n"
     ]
    }
   ],
   "source": [
    "def collection_clear(access_token, collection_name):\n",
    "    url = 'https://api.weixin.qq.com/tcb/databasedelete'\n",
    "    post_data = {\n",
    "        'env': ENV,\n",
    "        'query': 'db.collection(\\\"' + collection_name + '\\\").where({}).remove()'\n",
    "    }\n",
    "    r = requests.post(url, json= post_data, params= access_token)\n",
    "    if r.json()['errcode'] == 0:\n",
    "        print('collection ' + collection_name + ' cleared.')\n",
    "    else:\n",
    "        print('fail to clear collection ' + collection_name + ' .')\n",
    "        print(r.json())\n",
    "\n",
    "collection_clear(access_token, 'test')"
   ]
  },
  {
   "cell_type": "code",
   "execution_count": 7,
   "metadata": {},
   "outputs": [
    {
     "name": "stdout",
     "output_type": "stream",
     "text": [
      "{\"a\": 1, \"b\": 2}\n",
      "{\"sum\":3}\n"
     ]
    }
   ],
   "source": [
    "def invoke_cloud_function(access_token, ):\n",
    "    url = 'https://api.weixin.qq.com/tcb/invokecloudfunction'\n",
    "    access_token['env'] = ENV\n",
    "    access_token['name'] = 'add'\n",
    "    post_data = {\n",
    "        'a': 1,\n",
    "        'b': 2,\n",
    "    }\n",
    "    r =requests.post(url, params = access_token, data = json.dumps(post_data))\n",
    "    print(r.request.body)\n",
    "    print(r.json()['resp_data'])\n",
    "    \n",
    "invoke_cloud_function(access_token)"
   ]
  },
  {
   "cell_type": "code",
   "execution_count": null,
   "metadata": {},
   "outputs": [],
   "source": []
  }
 ],
 "metadata": {
  "kernelspec": {
   "display_name": "Python 3",
   "language": "python",
   "name": "python3"
  },
  "language_info": {
   "codemirror_mode": {
    "name": "ipython",
    "version": 3
   },
   "file_extension": ".py",
   "mimetype": "text/x-python",
   "name": "python",
   "nbconvert_exporter": "python",
   "pygments_lexer": "ipython3",
   "version": "3.7.3"
  }
 },
 "nbformat": 4,
 "nbformat_minor": 2
}
